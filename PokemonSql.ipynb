{
 "cells": [
  {
   "cell_type": "code",
   "execution_count": 1,
   "id": "7ee7946a",
   "metadata": {},
   "outputs": [],
   "source": [
    "import cx_Oracle\n",
    "import matplotlib.pyplot as plt"
   ]
  },
  {
   "cell_type": "markdown",
   "id": "e6d311dc",
   "metadata": {
    "deletable": false,
    "editable": false
   },
   "source": [
    "# Philosophy\n",
    "Let's put it all together!\n",
    "\n",
    "This assignment is meant to give you some experience with using code to work with a database. It is also an opportunity to use all of the knowledge we have learned so far to see how the various topics from our class fit together."
   ]
  },
  {
   "cell_type": "markdown",
   "id": "f6f90396",
   "metadata": {
    "deletable": false
   },
   "source": [
    "# Step 1: Pick a `.sql` file and transfer it to the UBC CS server\n",
    "\n",
    "For this assignment, we have given you a choice of two topics (the choices are listed in the Canvas assignment). Pick your favourite and download the file to your computer.\n",
    "\n",
    "In the SQLPlus tutorial, you transferred a `.sql` file full of `CREATE TABLE` and `INSERT` statements to the CS server so that you can run it in Oracle. You will want to do the same thing with the `.sql` file you have just downloaded. If you run into a space issue, you may have to delete the existing tables in your database by following the instructions on the [course website](https://www.students.cs.ubc.ca/~cs-368/resources/sql-plus-setup.html#commands)."
   ]
  },
  {
   "cell_type": "markdown",
   "id": "b7fc5104",
   "metadata": {},
   "source": [
    "<font color=\"blue\">POKEMON SQL FILE</font>"
   ]
  },
  {
   "cell_type": "markdown",
   "id": "24001ee2",
   "metadata": {
    "deletable": false
   },
   "source": [
    "# Step 2: To tunnel or not to tunnel. That is the question.\n",
    "### The answer is yes. You need to tunnel.\n",
    "\n",
    "The Oracle database is hosted on a protected department machine. We first saw this in action when we used SQLPlus to access the database; before being able to connect to the server with SQLPlus, we had to first SSH into the UBC CS servers. \n",
    "\n",
    "When you are using code to access the server, we have to do a similar process to first access the UBC CS servers before connecting to the database via code. Depending on what you are using to write code, these instructions may differ (i.e., [Syzygy](https://www.students.cs.ubc.ca/~cs-368/resources/connecting-to-db.html#syzygy) vs. a [local installation of Jupyter on your own machine](https://www.students.cs.ubc.ca/~cs-368/resources/connecting-to-db.html#local)).\n",
    "\n",
    "You cannot skip this step. You will not be able to connect to the database if you do."
   ]
  },
  {
   "cell_type": "code",
   "execution_count": 2,
   "id": "c1d6a759-685a-46ce-be0a-eb9321c032b9",
   "metadata": {},
   "outputs": [],
   "source": [
    "cx_Oracle.init_oracle_client(lib_dir=r\"E:\\downloads\\instantclient_21_9\")"
   ]
  },
  {
   "cell_type": "code",
   "execution_count": 3,
   "id": "9c0c7209",
   "metadata": {},
   "outputs": [],
   "source": [
    "# We are using a global variable here to hold the connection to the database to make the rest of\n",
    "# the questions easier.\n",
    "# Disclaimer: This is not the best in terms of security.\n",
    "\n",
    "# TODO: Fill in your username and password below. As a reminder, \n",
    "# your username is \"ora_CWL\" (no quotation marks) and your password is \"a[student_number]\" where\n",
    "# [student_number] is replaced with your actual student number (e.g., a12345678)\n",
    "\n",
    "DSN = cx_Oracle.makedsn(\"localhost\", 1522, service_name=\"stu\")\n",
    "CONNECTION = cx_Oracle.connect(user=\"ora_agill59\", password=\"a51913747\", dsn=DSN, encoding=\"UTF-8\")"
   ]
  },
  {
   "cell_type": "markdown",
   "id": "22c5fb86",
   "metadata": {
    "deletable": false,
    "tags": []
   },
   "source": [
    "# Step 3: Query the database\n",
    "\n",
    "Now that we can connect to the database, it's time to start writing some code so that we can execute some queries.\n",
    "\n",
    "If you are running into trouble, try these two resources:\n",
    "* https://cx-oracle.readthedocs.io/en/latest/user_guide/connection_handling.html\n",
    "* https://cx-oracle.readthedocs.io/en/latest/user_guide/sql_execution.html\n",
    "* https://oracle.github.io/python-cx_Oracle/samples/tutorial/Python-and-Oracle-Database-Scripting-for-the-Future.html#binding\n",
    "\n",
    "If you are running into trouble with Jupyter not recognizing the cx_oracle library, please double check to ensure that it is installed."
   ]
  },
  {
   "cell_type": "code",
   "execution_count": 4,
   "id": "6a673c99-b45c-4d32-b8e2-5b25cade1a91",
   "metadata": {},
   "outputs": [],
   "source": [
    "Cursor = CONNECTION.cursor()"
   ]
  },
  {
   "cell_type": "markdown",
   "id": "cb27e2d0",
   "metadata": {
    "deletable": false,
    "jp-MarkdownHeadingCollapsed": true,
    "tags": []
   },
   "source": [
    "# Step 4: Think of a Query\n",
    "In this assignment, we will ask you to query the database and then visualize the result of your query in some way. For example, if we were working with some relations that contained data about book sales over time, we could create a bar graph showing the total book sales per month.\n",
    "\n",
    "Here are the requirements for your query:\n",
    "* It has to use an aggregate operator\n",
    "* It has to use GROUP BY\n",
    "* It must be \"complete\" as in the client (your code in this assignment) should not have to further manipulate the data after the query has returned. That is, your query should pull in the data in a way that does not require you to further group/prune/sort it.\n",
    "\n",
    "Here are the requirements for your visualization:\n",
    "* It does not have to be fancy nor does it have to be dynamic. A simple line graph or bar chart will suffice.\n",
    "* The visualization has to make sense sense given what your query is trying to find/express.\n",
    "* The visualization should have a title/legend/axes labels when appropriate."
   ]
  },
  {
   "cell_type": "markdown",
   "id": "e8efa2c7",
   "metadata": {
    "deletable": false
   },
   "source": [
    "# Step 4a: Write an English description of the query\n",
    "\n",
    "In the cell below, write an English description of your query. Do **not** describe how the query works. I.e., we do not want a description like \"First we will find the rows with this value and then we will take the first value from this list and add it etc.\".\n",
    "\n",
    "Imagine you are trying to describe this query to a five year old child. What is the query meant to do?"
   ]
  },
  {
   "cell_type": "markdown",
   "id": "fcd3f458",
   "metadata": {},
   "source": [
    "<font color=\"blue\">Finds the number of pokemon in each primary type. </font>"
   ]
  },
  {
   "cell_type": "markdown",
   "id": "049753a2",
   "metadata": {},
   "source": [
    "# Step 4b: State the SQL query\n",
    "In the cell below, write the SQL query."
   ]
  },
  {
   "cell_type": "markdown",
   "id": "914bbfce",
   "metadata": {},
   "source": [
    "<font color=\"blue\">SELECT count(ptype_primary), ptype_primary\n",
    "FROM pokemons\n",
    "GROUP BY ptype_primary</font>"
   ]
  },
  {
   "cell_type": "markdown",
   "id": "e7944c83",
   "metadata": {
    "deletable": false
   },
   "source": [
    "# Step 5: Execute your query and fetch the result\n",
    "\n",
    "Write a function that will execute your query and return the results of that query. \n",
    "\n",
    "In a previous assignment, we briefly mentioned the issue of SQL injection (the [XKCD comic about Bobby Tables](https://xkcd.com/327/)). SQL injection is when someone uses an opportunity for user input to run their own query. It is considered very dangerous to directly concatenate whatever a user gives you.\n",
    "\n",
    "To get around the issue of directly executing anything that a user provides, we use [bind variables](https://cx-oracle.readthedocs.io/en/latest/user_guide/bind.html). In your function, you won't necessarily have user input (and thus can trust the query) so using bind variables is not totally necessary. However, we want you to get a bit of experience with doing this so we would like your code to use bind variables when executing your query. For an example on how this is done, please refer to section 4.1 on [this page](https://oracle.github.io/python-cx_Oracle/samples/tutorial/Python-and-Oracle-Database-Scripting-for-the-Future.html#binding).\n",
    "\n",
    "If you are stuck on how to do this, please read this [page](https://cx-oracle.readthedocs.io/en/latest/user_guide/sql_execution.html)."
   ]
  },
  {
   "cell_type": "code",
   "execution_count": 5,
   "id": "8fd2b5d7-0b30-4c65-84c7-af76ebdfdd42",
   "metadata": {},
   "outputs": [],
   "source": [
    "\n",
    "query = '''\n",
    "SELECT count(ptype_primary), ptype_primary\n",
    "FROM pokemons\n",
    "GROUP BY ptype_primary\n",
    "Order BY count(ptype_primary) desc\n",
    "'''"
   ]
  },
  {
   "cell_type": "markdown",
   "id": "a6bf91db-aa60-44b2-bb05-f6ae8497f428",
   "metadata": {},
   "source": [
    "<font color=\"blue\">I am unsure on how to add a bind variable for such a simple query.</font>"
   ]
  },
  {
   "cell_type": "code",
   "execution_count": 6,
   "id": "327f7568",
   "metadata": {},
   "outputs": [
    {
     "name": "stdout",
     "output_type": "stream",
     "text": [
      "(46, 'Water')\n",
      "(37, 'Normal')\n",
      "(22, 'Bug')\n",
      "(21, 'Grass')\n",
      "(20, 'Fire')\n",
      "(15, 'Poison')\n",
      "(15, 'Electric')\n",
      "(14, 'Psychic')\n",
      "(13, 'Rock')\n",
      "(11, 'Ground')\n",
      "(9, 'Fighting')\n",
      "(7, 'Fairy')\n",
      "(6, 'Ice')\n",
      "(5, 'Dark')\n",
      "(4, 'Ghost')\n",
      "(3, 'Dragon')\n",
      "(2, 'Steel')\n"
     ]
    }
   ],
   "source": [
    "# Write your solution to step 5 here\n",
    "data = []\n",
    "for row in Cursor.execute(query):\n",
    "    print(row)\n",
    "    data.append(row)"
   ]
  },
  {
   "cell_type": "code",
   "execution_count": 7,
   "id": "974aec64-5a89-4d87-b178-b21f37390f8f",
   "metadata": {},
   "outputs": [
    {
     "data": {
      "text/plain": [
       "['Water',\n",
       " 'Normal',\n",
       " 'Bug',\n",
       " 'Grass',\n",
       " 'Fire',\n",
       " 'Poison',\n",
       " 'Electric',\n",
       " 'Psychic',\n",
       " 'Rock',\n",
       " 'Ground',\n",
       " 'Fighting',\n",
       " 'Fairy',\n",
       " 'Ice',\n",
       " 'Dark',\n",
       " 'Ghost',\n",
       " 'Dragon',\n",
       " 'Steel']"
      ]
     },
     "execution_count": 7,
     "metadata": {},
     "output_type": "execute_result"
    }
   ],
   "source": [
    "poke_types = [item[1] for item in data]\n",
    "poke_types"
   ]
  },
  {
   "cell_type": "code",
   "execution_count": 8,
   "id": "9fa9a842-3dd8-46a4-aed9-9410203f6fdb",
   "metadata": {},
   "outputs": [
    {
     "data": {
      "text/plain": [
       "[46, 37, 22, 21, 20, 15, 15, 14, 13, 11, 9, 7, 6, 5, 4, 3, 2]"
      ]
     },
     "execution_count": 8,
     "metadata": {},
     "output_type": "execute_result"
    }
   ],
   "source": [
    "poke_count = [item[0] for item in data]\n",
    "poke_count"
   ]
  },
  {
   "cell_type": "markdown",
   "id": "7dd821f6",
   "metadata": {
    "tags": []
   },
   "source": [
    "# Step 6: Create your visualization\n",
    "Using your solution from step 5, create your visualization. Again, this visualization does not have to be fancy.\n",
    "\n",
    "Feel free to refer to the [matplotlib examples](https://matplotlib.org/stable/gallery/index). If you use code from the examples, be sure to cite it by leaving a comment to identify which lines of code were taken from the example."
   ]
  },
  {
   "cell_type": "code",
   "execution_count": 9,
   "id": "e58070a0-9973-489c-8499-d96d5e7de787",
   "metadata": {},
   "outputs": [
    {
     "data": {
      "image/png": "[encoded data removed]",
      "text/plain": [
       "<Figure size 640x480 with 1 Axes>"
      ]
     },
     "metadata": {},
     "output_type": "display_data"
    }
   ],
   "source": [
    "plt.bar(x = poke_types, height = poke_count)\n",
    "plt.xticks(rotation=60)\n",
    "plt.ylabel('Count')\n",
    "plt.title('Number of Pokemon in Each Type')\n",
    "plt.show()"
   ]
  },
  {
   "cell_type": "markdown",
   "id": "003ccd3e",
   "metadata": {},
   "source": [
    "# Step 7: Submit your work!\n",
    "Please submit your work by downloading the notebook (File -> Download As -> Notebook (.ipynb))."
   ]
  }
 ],
 "metadata": {
  "kernelspec": {
   "display_name": "Python [conda env:cpsc330]",
   "language": "python",
   "name": "conda-env-cpsc330-py"
  },
  "language_info": {
   "codemirror_mode": {
    "name": "ipython",
    "version": 3
   },
   "file_extension": ".py",
   "mimetype": "text/x-python",
   "name": "python",
   "nbconvert_exporter": "python",
   "pygments_lexer": "ipython3",
   "version": "3.10.6"
  }
 },
 "nbformat": 4,
 "nbformat_minor": 5
}
